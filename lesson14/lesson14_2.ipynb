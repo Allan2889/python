{
 "cells": [
  {
   "cell_type": "markdown",
   "id": "21ac527d",
   "metadata": {},
   "source": [
    "ndarry的索引(index),切割(slice)"
   ]
  },
  {
   "cell_type": "code",
   "execution_count": 7,
   "id": "584143f8",
   "metadata": {},
   "outputs": [
    {
     "data": {
      "text/plain": [
       "array([7, 8, 9])"
      ]
     },
     "execution_count": 7,
     "metadata": {},
     "output_type": "execute_result"
    }
   ],
   "source": [
    "import numpy as np\n",
    "\n",
    "arr = np.arange(10)\n",
    "arr[0]\n",
    "arr[-1]\n",
    "arr[:3]\n",
    "arr[-3:]"
   ]
  },
  {
   "cell_type": "code",
   "execution_count": 8,
   "id": "b3cfe75d",
   "metadata": {},
   "outputs": [
    {
     "data": {
      "text/plain": [
       "78"
      ]
     },
     "execution_count": 8,
     "metadata": {},
     "output_type": "execute_result"
    }
   ],
   "source": [
    "import random\n",
    "random.randint(50,100)"
   ]
  },
  {
   "cell_type": "code",
   "execution_count": 9,
   "id": "a05337fe",
   "metadata": {},
   "outputs": [
    {
     "data": {
      "text/plain": [
       "(50, 5)"
      ]
     },
     "execution_count": 9,
     "metadata": {},
     "output_type": "execute_result"
    }
   ],
   "source": [
    "np.random.randint(50, 101, size=5)\n",
    "scores = np.random.randint(50,101, size=(50, 5))\n",
    "scores.size\n",
    "scores.shape"
   ]
  },
  {
   "cell_type": "code",
   "execution_count": 21,
   "id": "e6352442",
   "metadata": {},
   "outputs": [
    {
     "data": {
      "text/plain": [
       "array([[ 96],\n",
       "       [ 89],\n",
       "       [ 54],\n",
       "       [ 55],\n",
       "       [ 99],\n",
       "       [ 67],\n",
       "       [ 66],\n",
       "       [ 94],\n",
       "       [ 86],\n",
       "       [ 67],\n",
       "       [ 98],\n",
       "       [ 98],\n",
       "       [ 99],\n",
       "       [ 57],\n",
       "       [ 59],\n",
       "       [ 53],\n",
       "       [ 56],\n",
       "       [ 54],\n",
       "       [ 72],\n",
       "       [ 55],\n",
       "       [ 50],\n",
       "       [ 79],\n",
       "       [ 61],\n",
       "       [ 76],\n",
       "       [ 58],\n",
       "       [ 96],\n",
       "       [ 93],\n",
       "       [ 59],\n",
       "       [ 72],\n",
       "       [ 88],\n",
       "       [ 82],\n",
       "       [ 65],\n",
       "       [ 98],\n",
       "       [ 88],\n",
       "       [ 71],\n",
       "       [ 92],\n",
       "       [ 83],\n",
       "       [ 94],\n",
       "       [ 55],\n",
       "       [ 69],\n",
       "       [ 79],\n",
       "       [ 79],\n",
       "       [ 78],\n",
       "       [ 73],\n",
       "       [ 79],\n",
       "       [100],\n",
       "       [ 70],\n",
       "       [ 86],\n",
       "       [ 87],\n",
       "       [ 61]], dtype=int32)"
      ]
     },
     "execution_count": 21,
     "metadata": {},
     "output_type": "execute_result"
    }
   ],
   "source": [
    "scores[:, 0]\n",
    "scores[:,0:1]"
   ]
  },
  {
   "cell_type": "code",
   "execution_count": 18,
   "id": "d624d8dd",
   "metadata": {},
   "outputs": [
    {
     "data": {
      "text/plain": [
       "array([[96, 72, 77, 85, 67]], dtype=int32)"
      ]
     },
     "execution_count": 18,
     "metadata": {},
     "output_type": "execute_result"
    }
   ],
   "source": [
    "scores[0,:]\n",
    "scores[0:1,:]"
   ]
  },
  {
   "cell_type": "code",
   "execution_count": 20,
   "id": "fcbc74aa",
   "metadata": {},
   "outputs": [
    {
     "data": {
      "text/plain": [
       "array([79.4, 64. , 73.8, 63.6, 81.2, 64.2, 70.4, 80.4, 70.6, 68.6, 76.6,\n",
       "       80.4, 84.4, 73.6, 74. , 69.6, 71.8, 72.8, 74.2, 65. , 72.6, 77. ,\n",
       "       71.6, 67.4, 72.6, 78.4, 81.2, 78.2, 70. , 83.8, 76. , 70.4, 68.8,\n",
       "       76.8, 62.4, 80.6, 71. , 68.6, 63. , 74. , 71.4, 68.4, 67.6, 63. ,\n",
       "       79.8, 86.2, 81. , 80. , 77.6, 73.8])"
      ]
     },
     "execution_count": 20,
     "metadata": {},
     "output_type": "execute_result"
    }
   ],
   "source": [
    "np.sum(scores,axis=1)\n",
    "np.mean(scores, axis=1)"
   ]
  },
  {
   "cell_type": "code",
   "execution_count": 23,
   "id": "5ed0de82",
   "metadata": {},
   "outputs": [
    {
     "data": {
      "text/plain": [
       "array([ True,  True, False, False, False])"
      ]
     },
     "execution_count": 23,
     "metadata": {},
     "output_type": "execute_result"
    }
   ],
   "source": [
    "#使用比較運算子\n",
    "arr = np.random.randn(5)\n",
    "arr > 0"
   ]
  },
  {
   "cell_type": "code",
   "execution_count": 24,
   "id": "4d31616a",
   "metadata": {},
   "outputs": [
    {
     "data": {
      "text/plain": [
       "array([1, 1, 0, 0, 0])"
      ]
     },
     "execution_count": 24,
     "metadata": {},
     "output_type": "execute_result"
    }
   ],
   "source": [
    "np.where(arr > 0, 1, 0)"
   ]
  },
  {
   "cell_type": "code",
   "execution_count": 25,
   "id": "246feadb",
   "metadata": {},
   "outputs": [
    {
     "data": {
      "text/plain": [
       "array([ 1.        ,  1.        , -0.01264332, -0.67683734, -0.52480534])"
      ]
     },
     "execution_count": 25,
     "metadata": {},
     "output_type": "execute_result"
    }
   ],
   "source": [
    "np.where(arr>0, 1, arr)"
   ]
  }
 ],
 "metadata": {
  "kernelspec": {
   "display_name": "python2_4",
   "language": "python",
   "name": "python3"
  },
  "language_info": {
   "codemirror_mode": {
    "name": "ipython",
    "version": 3
   },
   "file_extension": ".py",
   "mimetype": "text/x-python",
   "name": "python",
   "nbconvert_exporter": "python",
   "pygments_lexer": "ipython3",
   "version": "3.11.11"
  }
 },
 "nbformat": 4,
 "nbformat_minor": 5
}

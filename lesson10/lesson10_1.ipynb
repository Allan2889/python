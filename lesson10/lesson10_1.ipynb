{
 "cells": [
  {
   "cell_type": "code",
   "execution_count": 1,
   "id": "18de980d",
   "metadata": {},
   "outputs": [
    {
     "name": "stdout",
     "output_type": "stream",
     "text": [
      "  1.臧怡君\n",
      "  2.林佳人\n",
      "  3.黃詩妃\n"
     ]
    }
   ],
   "source": [
    "import random\n",
    "\n",
    "file = open(\"names.txt\",encoding='utf-8')\n",
    "contents:list[str] = file.readlines()\n",
    "file.close()\n",
    "names:list[str] = [name.strip() for name in contents]\n",
    "pick = int(input(\"請輸入所需要的姓名數量:\"));\n",
    "\n",
    "for i in range(0, pick):\n",
    "    index = random.randint(0, len(names));\n",
    "    print(f\"{i+1:3d}.{names[index]}\");\n",
    "\n",
    "file.close();"
   ]
  },
  {
   "cell_type": "code",
   "execution_count": 2,
   "id": "83ab2af6",
   "metadata": {},
   "outputs": [
    {
     "name": "stdout",
     "output_type": "stream",
     "text": [
      "1.郭淑真\n",
      "2.陳彥治\n",
      "3.林希啟\n"
     ]
    }
   ],
   "source": [
    "import random\n",
    "\n",
    "file = open(\"names.txt\",encoding='utf-8')\n",
    "contents:list[str] = file.readlines()\n",
    "file.close()\n",
    "names:list[str] = [name.strip() for name in contents]\n",
    "pick = int(input(\"請輸入所需要的姓名數量:\"));\n",
    "\n",
    "for idx, name in enumerate(random.sample(names, pick)):\n",
    "    print(f'{idx+1}.{name}')"
   ]
  },
  {
   "cell_type": "markdown",
   "id": "87843029",
   "metadata": {},
   "source": [
    "###建立記憶體的表格資料\n"
   ]
  },
  {
   "cell_type": "code",
   "execution_count": 4,
   "id": "f86edf77",
   "metadata": {},
   "outputs": [
    {
     "data": {
      "text/plain": [
       "[{'姓名': '吳孟穎', '國文': 84, '英文': 53, '數學': 54},\n",
       " {'姓名': '沈心利', '國文': 94, '英文': 59, '數學': 96},\n",
       " {'姓名': '鍾俞禎', '國文': 95, '英文': 58, '數學': 70},\n",
       " {'姓名': '郭淑真', '國文': 86, '英文': 100, '數學': 79},\n",
       " {'姓名': '陳凱翔', '國文': 57, '英文': 84, '數學': 59},\n",
       " {'姓名': '陳家年', '國文': 54, '英文': 52, '數學': 95},\n",
       " {'姓名': '黃心航', '國文': 59, '英文': 62, '數學': 94},\n",
       " {'姓名': '彭偉妃', '國文': 57, '英文': 86, '數學': 80},\n",
       " {'姓名': '尚偉倫', '國文': 83, '英文': 84, '數學': 78},\n",
       " {'姓名': '黃翔杰', '國文': 84, '英文': 93, '數學': 72},\n",
       " {'姓名': '林思賢', '國文': 96, '英文': 88, '數學': 61},\n",
       " {'姓名': '黃淑芬', '國文': 53, '英文': 62, '數學': 85},\n",
       " {'姓名': '郭致恬', '國文': 58, '英文': 63, '數學': 89},\n",
       " {'姓名': '翁羽威', '國文': 71, '英文': 70, '數學': 99},\n",
       " {'姓名': '周家銘', '國文': 86, '英文': 81, '數學': 62},\n",
       " {'姓名': '孫宜珊', '國文': 82, '英文': 80, '數學': 57}]"
      ]
     },
     "execution_count": 4,
     "metadata": {},
     "output_type": "execute_result"
    }
   ],
   "source": [
    "import random\n",
    "\n",
    "file = open(\"names.txt\",encoding='utf-8')\n",
    "contents:list[str] = file.readlines()\n",
    "file.close()\n",
    "names:list[str] = [name.strip() for name in contents]\n",
    "pick = int(input(\"請輸入所需要的姓名數量:\"));\n",
    "\n",
    "selected_names = random.sample(names, pick)\n",
    "students_data:list[dict] = [\n",
    "    {\n",
    "        '姓名':name,\n",
    "        '國文':random.randint(50,100),\n",
    "        '英文':random.randint(50,100),\n",
    "        '數學':random.randint(50, 100) \n",
    "    }\n",
    "    for name in selected_names]\n",
    "students_data"
   ]
  },
  {
   "cell_type": "code",
   "execution_count": 6,
   "id": "f531b6d8",
   "metadata": {},
   "outputs": [
    {
     "data": {
      "text/plain": [
       "[{'姓名': '王雅慧', '國文': 97, '英文': 62, '數學': 70},\n",
       " {'姓名': '林佳慧', '國文': 86, '英文': 59, '數學': 53},\n",
       " {'姓名': '張嘉韋', '國文': 81, '英文': 92, '數學': 98},\n",
       " {'姓名': '錢欣潔', '國文': 68, '英文': 52, '數學': 59},\n",
       " {'姓名': '劉昀天', '國文': 75, '英文': 52, '數學': 80},\n",
       " {'姓名': '劉慧君', '國文': 68, '英文': 94, '數學': 50},\n",
       " {'姓名': '李政白', '國文': 66, '英文': 70, '數學': 62},\n",
       " {'姓名': '王明昇', '國文': 60, '英文': 89, '數學': 83},\n",
       " {'姓名': '郭淑枝', '國文': 90, '英文': 73, '數學': 62},\n",
       " {'姓名': '陳美惠', '國文': 63, '英文': 63, '數學': 90},\n",
       " {'姓名': '賴苑禾', '國文': 64, '英文': 78, '數學': 76},\n",
       " {'姓名': '林珍旺', '國文': 85, '英文': 78, '數學': 55},\n",
       " {'姓名': '謝哲維', '國文': 79, '英文': 71, '數學': 52},\n",
       " {'姓名': '高信宏', '國文': 77, '英文': 83, '數學': 80},\n",
       " {'姓名': '張家秀', '國文': 77, '英文': 81, '數學': 73},\n",
       " {'姓名': '胡姿婷', '國文': 57, '英文': 63, '數學': 69},\n",
       " {'姓名': '唐雪豪', '國文': 68, '英文': 50, '數學': 94},\n",
       " {'姓名': '陳彥治', '國文': 65, '英文': 64, '數學': 93},\n",
       " {'姓名': '趙宛真', '國文': 85, '英文': 58, '數學': 77},\n",
       " {'姓名': '李淑芳', '國文': 96, '英文': 98, '數學': 69},\n",
       " {'姓名': '林康亮', '國文': 54, '英文': 66, '數學': 54},\n",
       " {'姓名': '元延辛', '國文': 67, '英文': 81, '數學': 92},\n",
       " {'姓名': '黃彥孝', '國文': 52, '英文': 70, '數學': 78},\n",
       " {'姓名': '游淑惠', '國文': 56, '英文': 72, '數學': 60},\n",
       " {'姓名': '蔡孟泉', '國文': 99, '英文': 64, '數學': 56},\n",
       " {'姓名': '羅佩樺', '國文': 81, '英文': 53, '數學': 86},\n",
       " {'姓名': '林義皓', '國文': 89, '英文': 95, '數學': 61},\n",
       " {'姓名': '賴昌韻', '國文': 79, '英文': 63, '數學': 78},\n",
       " {'姓名': '王德城', '國文': 64, '英文': 100, '數學': 55},\n",
       " {'姓名': '朱士弘', '國文': 66, '英文': 55, '數學': 77}]"
      ]
     },
     "execution_count": 6,
     "metadata": {},
     "output_type": "execute_result"
    }
   ],
   "source": [
    "import random\n",
    "\n",
    "with open(\"names.txt\",encoding='utf-8') as file:\n",
    "    contents:list[str] = file.readlines()\n",
    "\n",
    "names:list[str] = [name.strip() for name in contents]\n",
    "pick = int(input(\"請輸入所需要的姓名數量:\"));\n",
    "\n",
    "selected_names = random.sample(names, pick)\n",
    "students_data:list[dict] = [\n",
    "    {\n",
    "        '姓名':name,\n",
    "        '國文':random.randint(50,100),\n",
    "        '英文':random.randint(50,100),\n",
    "        '數學':random.randint(50, 100) \n",
    "    }\n",
    "    for name in selected_names]\n",
    "students_data"
   ]
  },
  {
   "cell_type": "markdown",
   "id": "923a9a03",
   "metadata": {},
   "source": [
    "###利用csv.DicWrite()建立csv檔"
   ]
  },
  {
   "cell_type": "code",
   "execution_count": 13,
   "id": "c0350073",
   "metadata": {},
   "outputs": [
    {
     "name": "stdout",
     "output_type": "stream",
     "text": [
      "寫入成功\n"
     ]
    }
   ],
   "source": [
    "#指定欄位名稱(欄位順序)\n",
    "\n",
    "import csv\n",
    "\n",
    "filednames = students_data[0].keys()\n",
    "\n",
    "with open('students.csv','w',newline='',encoding='utf-8') as csvfile:\n",
    "    writer = csv.DictWriter(csvfile,fieldnames=filednames)\n",
    "    #寫入欄位標題\n",
    "    writer.writeheader()\n",
    "\n",
    "    #寫入多筆資料\n",
    "    writer.writerows(students_data)\n",
    "print (\"寫入成功\")"
   ]
  }
 ],
 "metadata": {
  "kernelspec": {
   "display_name": "base",
   "language": "python",
   "name": "python3"
  },
  "language_info": {
   "codemirror_mode": {
    "name": "ipython",
    "version": 3
   },
   "file_extension": ".py",
   "mimetype": "text/x-python",
   "name": "python",
   "nbconvert_exporter": "python",
   "pygments_lexer": "ipython3",
   "version": "3.12.9"
  }
 },
 "nbformat": 4,
 "nbformat_minor": 5
}

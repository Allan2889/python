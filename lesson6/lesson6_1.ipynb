{
 "cells": [
  {
   "cell_type": "code",
   "execution_count": null,
   "id": "56c950f0",
   "metadata": {},
   "outputs": [],
   "source": [
    "#BMI < 18.5 體重過輕\n",
    "#18.5 <= BMI < 24 正常範圍\n",
    "#24 <= BMI < 27 過重\n",
    "#27 <= BMI <30 輕度肥胖\n",
    "#30 <= BMI <35 中度肥胖\n",
    "#35 >= BMI 過度肥胖\n",
    "\n",
    "height = eval(input(\"請輸入身高(公尺):\"))\n",
    "weight = eval(input(\"請輸入體重(公斤):\"))\n",
    "result = weight / height**2\n",
    "print (f\"你的身高:{height}公尺\")\n",
    "print (f\"你的體重:{weight}公斤\")\n",
    "if result >= 18.5 and result <24:\n",
    "    print (f\"你的BMI:{result:.2f}, 正常範圍\")\n",
    "else:\n",
    "    if result >35:\n",
    "        print (f\"你的BMI:{result:.2f}, 過度肥胖\")\n",
    "    elif result >30:\n",
    "        print (f\"你的BMI:{result:.2f}, 中度肥胖\")\n",
    "    elif result >27:\n",
    "        print (f\"你的BMI:{result:.2f}, 輕度肥胖\")\n",
    "    elif result >24:\n",
    "        print (f\"你的BMI:{result:.2f}, 過重\")\n",
    "    else:\n",
    "        print (f\"你的BMI:{result:.2f}, 體重過輕\")"
   ]
  }
 ],
 "metadata": {
  "kernelspec": {
   "display_name": "base",
   "language": "python",
   "name": "python3"
  },
  "language_info": {
   "name": "python",
   "version": "3.12.9"
  }
 },
 "nbformat": 4,
 "nbformat_minor": 5
}

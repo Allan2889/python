{
 "cells": [
  {
   "cell_type": "markdown",
   "id": "a0b51b85",
   "metadata": {},
   "source": [
    "https://flask.palletsprojects.com/en/stable/quickstart/#a-minimal-application\n",
    "\n",
    "#lesson21_3的資料"
   ]
  }
 ],
 "metadata": {
  "language_info": {
   "name": "python"
  }
 },
 "nbformat": 4,
 "nbformat_minor": 5
}

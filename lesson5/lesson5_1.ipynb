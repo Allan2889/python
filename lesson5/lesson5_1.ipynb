{
 "cells": [
  {
   "cell_type": "code",
   "execution_count": 6,
   "id": "0b3b8607",
   "metadata": {},
   "outputs": [
    {
     "name": "stdout",
     "output_type": "stream",
     "text": [
      "優\n"
     ]
    }
   ],
   "source": [
    "scores = int(input (\"請輸入學生分數0~100:\"))\n",
    "if scores <60:\n",
    "    print (\"丁\")\n",
    "elif scores <70:\n",
    "    print (\"丙\")\n",
    "elif scores <80:\n",
    "    print (\"乙\")\n",
    "elif scores <90:\n",
    "    print (\"甲\")\n",
    "else: \n",
    "    print (\"優\")\n"
   ]
  },
  {
   "cell_type": "markdown",
   "id": "6d237199",
   "metadata": {},
   "source": [
    "### 組合兩個條件\n",
    "- 巢狀判斷\n",
    "- 邏輯運算子 (and 或 or)"
   ]
  },
  {
   "cell_type": "code",
   "execution_count": 11,
   "id": "f76594f1",
   "metadata": {},
   "outputs": [
    {
     "name": "stdout",
     "output_type": "stream",
     "text": [
      "獎金500元\n"
     ]
    }
   ],
   "source": [
    "#國文100同時數學100->1000元\n",
    "#國文100或者數學100->500元\n",
    "#其他->0元\n",
    "\n",
    "chinese = int (input (\"請輸入國文分數:\"))\n",
    "math = int (input (\"請輸入數學分數:\"))\n",
    "if chinese == 100 and math == 100:\n",
    "    print (\"獎金1000\")\n",
    "elif chinese == 100 or math == 100:\n",
    "    print (\"獎金500元\")\n",
    "else:\n",
    "    print (\"獎金0元\")\n"
   ]
  },
  {
   "cell_type": "code",
   "execution_count": 24,
   "id": "a5a4c189",
   "metadata": {},
   "outputs": [
    {
     "data": {
      "text/plain": [
       "55"
      ]
     },
     "execution_count": 24,
     "metadata": {},
     "output_type": "execute_result"
    }
   ],
   "source": [
    "#1~10相加總\n",
    "n = 0\n",
    "n += 1\n",
    "n += 2\n",
    "n += 3\n",
    "n += 4\n",
    "n += 5\n",
    "n += 6\n",
    "n += 7\n",
    "n += 8\n",
    "n += 9\n",
    "n += 10\n",
    "\n",
    "n"
   ]
  },
  {
   "cell_type": "code",
   "execution_count": 17,
   "id": "23a5d666",
   "metadata": {},
   "outputs": [
    {
     "name": "stdout",
     "output_type": "stream",
     "text": [
      "0\n",
      "1\n",
      "2\n",
      "3\n",
      "4\n"
     ]
    }
   ],
   "source": [
    "#說明range\n",
    "for i in range(5):\n",
    "    print (i)"
   ]
  },
  {
   "cell_type": "code",
   "execution_count": 15,
   "id": "7dadb5e4",
   "metadata": {},
   "outputs": [
    {
     "name": "stdout",
     "output_type": "stream",
     "text": [
      "1\n",
      "3\n",
      "5\n",
      "7\n",
      "9\n"
     ]
    }
   ],
   "source": [
    "for i in range(1, 10, 2):\n",
    "    print (i)"
   ]
  },
  {
   "cell_type": "code",
   "execution_count": 20,
   "id": "2370370e",
   "metadata": {},
   "outputs": [
    {
     "name": "stdout",
     "output_type": "stream",
     "text": [
      "total=55\n"
     ]
    }
   ],
   "source": [
    "n = int (input(\"請輸入n的值\"))\n",
    "total = 0\n",
    "for i in range (1, n+1):\n",
    "    total += i\n",
    "\n",
    "print (f\"total={total}\")"
   ]
  },
  {
   "cell_type": "code",
   "execution_count": 30,
   "id": "48aa812b",
   "metadata": {},
   "outputs": [
    {
     "name": "stdout",
     "output_type": "stream",
     "text": [
      "i=1\n",
      "j=1 j=2 j=3 j=4 j=5 j=6 j=7 j=8 j=9 \n",
      "i=2\n",
      "j=1 j=2 j=3 j=4 j=5 j=6 j=7 j=8 j=9 \n",
      "i=3\n",
      "j=1 j=2 j=3 j=4 j=5 j=6 j=7 j=8 j=9 \n",
      "i=4\n",
      "j=1 j=2 j=3 j=4 j=5 j=6 j=7 j=8 j=9 \n",
      "i=5\n",
      "j=1 j=2 j=3 j=4 j=5 j=6 j=7 j=8 j=9 \n",
      "i=6\n",
      "j=1 j=2 j=3 j=4 j=5 j=6 j=7 j=8 j=9 \n",
      "i=7\n",
      "j=1 j=2 j=3 j=4 j=5 j=6 j=7 j=8 j=9 \n",
      "i=8\n",
      "j=1 j=2 j=3 j=4 j=5 j=6 j=7 j=8 j=9 \n",
      "i=9\n",
      "j=1 j=2 j=3 j=4 j=5 j=6 j=7 j=8 j=9 \n"
     ]
    }
   ],
   "source": [
    "#巢狀迴圈\n",
    "for i in range (1,10):\n",
    "    print (f\"i={i}\")\n",
    "    for j in range (1,10):\n",
    "        print (f\"j={j}\", end=\" \")\n",
    "    print ()\n"
   ]
  },
  {
   "cell_type": "code",
   "execution_count": 31,
   "id": "26d9d10b",
   "metadata": {},
   "outputs": [
    {
     "name": "stdout",
     "output_type": "stream",
     "text": [
      "1*1=1\t1*2=2\t1*3=3\t1*4=4\t1*5=5\t1*6=6\t1*7=7\t1*8=8\t1*9=9\t\n",
      "2*1=2\t2*2=4\t2*3=6\t2*4=8\t2*5=10\t2*6=12\t2*7=14\t2*8=16\t2*9=18\t\n",
      "3*1=3\t3*2=6\t3*3=9\t3*4=12\t3*5=15\t3*6=18\t3*7=21\t3*8=24\t3*9=27\t\n",
      "4*1=4\t4*2=8\t4*3=12\t4*4=16\t4*5=20\t4*6=24\t4*7=28\t4*8=32\t4*9=36\t\n",
      "5*1=5\t5*2=10\t5*3=15\t5*4=20\t5*5=25\t5*6=30\t5*7=35\t5*8=40\t5*9=45\t\n",
      "6*1=6\t6*2=12\t6*3=18\t6*4=24\t6*5=30\t6*6=36\t6*7=42\t6*8=48\t6*9=54\t\n",
      "7*1=7\t7*2=14\t7*3=21\t7*4=28\t7*5=35\t7*6=42\t7*7=49\t7*8=56\t7*9=63\t\n",
      "8*1=8\t8*2=16\t8*3=24\t8*4=32\t8*5=40\t8*6=48\t8*7=56\t8*8=64\t8*9=72\t\n",
      "9*1=9\t9*2=18\t9*3=27\t9*4=36\t9*5=45\t9*6=54\t9*7=63\t9*8=72\t9*9=81\t\n"
     ]
    }
   ],
   "source": [
    "for i in range (1,10):\n",
    "    for j in range (1,10):\n",
    "        print (f\"{i}*{j}={i*j}\",end=\"\\t\")\n",
    "    print ()"
   ]
  },
  {
   "cell_type": "code",
   "execution_count": 1,
   "id": "0ebdd4d4",
   "metadata": {},
   "outputs": [
    {
     "name": "stdout",
     "output_type": "stream",
     "text": [
      "恭喜!已經存了3個月, 總共存了42200元\n"
     ]
    }
   ],
   "source": [
    "### while\n",
    "### 不知道執行的次數\n",
    "#小明想要存錢買一輛機車, 機車每輛30000元, 他將每月存的錢輸入, 當存款足夠買機車時, 就顯示提醒訊息告知\n",
    "\n",
    "deposite = 0\n",
    "month = 0\n",
    "while (deposite<30000):\n",
    "    month += 1\n",
    "    input_value = int (input(f\"請輸入第{month}月份的存款\"))\n",
    "    deposite += input_value\n",
    "print (f\"恭喜!已經存了{month}個月, 總共存了{deposite}元\")\n"
   ]
  }
 ],
 "metadata": {
  "kernelspec": {
   "display_name": "base",
   "language": "python",
   "name": "python3"
  },
  "language_info": {
   "codemirror_mode": {
    "name": "ipython",
    "version": 3
   },
   "file_extension": ".py",
   "mimetype": "text/x-python",
   "name": "python",
   "nbconvert_exporter": "python",
   "pygments_lexer": "ipython3",
   "version": "3.12.9"
  }
 },
 "nbformat": 4,
 "nbformat_minor": 5
}

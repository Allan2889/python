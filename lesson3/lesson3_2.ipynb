{
 "cells": [
  {
   "cell_type": "markdown",
   "id": "82e2093a",
   "metadata": {},
   "source": [
    "複合指定運算子\n",
    "+=\n",
    "-=\n",
    "*=\n",
    "/=\n",
    "//=\n",
    "%=\n",
    "**="
   ]
  },
  {
   "cell_type": "code",
   "execution_count": 2,
   "id": "24863216",
   "metadata": {},
   "outputs": [
    {
     "name": "stdout",
     "output_type": "stream",
     "text": [
      "鄰邊: 3\n",
      "對邊: 4\n",
      "斜邊: 5.0\n"
     ]
    }
   ],
   "source": [
    "#國中數學\n",
    "import math\n",
    "side = eval (input(\"請輸入鄰邊:\"))\n",
    "another_side = eval (input(\"請輸入對邊:\"))\n",
    "result = math.sqrt(side ** 2 + another_side ** 2)\n",
    "print (\"鄰邊:\", side)\n",
    "print (\"對邊:\", another_side)\n",
    "print (\"斜邊:\", result)"
   ]
  },
  {
   "cell_type": "code",
   "execution_count": 5,
   "id": "61bc046b",
   "metadata": {},
   "outputs": [
    {
     "name": "stdout",
     "output_type": "stream",
     "text": [
      "鄰邊: 3\n",
      "對邊: 5\n",
      "角度是: 36.86989764584402\n"
     ]
    }
   ],
   "source": [
    "#高中數學\n",
    "import math\n",
    "side = eval (input(\"請輸入鄰邊:\"))\n",
    "another_side = eval (input(\"請輸入對邊:\"))\n",
    "radian = math.asin(side/another_side)\n",
    "degree = math.degrees(radian)\n",
    "print (\"鄰邊:\", side)\n",
    "print (\"對邊:\", another_side)\n",
    "print (\"角度是:\", degree)"
   ]
  },
  {
   "cell_type": "code",
   "execution_count": 13,
   "id": "133fa61f",
   "metadata": {},
   "outputs": [
    {
     "name": "stdout",
     "output_type": "stream",
     "text": [
      "鄰邊:3\n",
      "對邊:5\n",
      "角度是:36.87\n"
     ]
    }
   ],
   "source": [
    "#高中數學\n",
    "import math\n",
    "side = eval (input(\"請輸入鄰邊:\"))\n",
    "another_side = eval (input(\"請輸入對邊:\"))\n",
    "radian = math.asin(side/another_side)\n",
    "degree = math.degrees(radian)\n",
    "print (f\"鄰邊:{side}\")\n",
    "print (f\"對邊:{another_side}\")\n",
    "print (f\"角度是:{degree:.2f}\")"
   ]
  },
  {
   "cell_type": "code",
   "execution_count": 7,
   "id": "364f72b5",
   "metadata": {},
   "outputs": [
    {
     "name": "stdout",
     "output_type": "stream",
     "text": [
      "國文成績:92, 數學成績:100\n"
     ]
    }
   ],
   "source": [
    "#字串相加\n",
    "chinese = 92\n",
    "math = 100\n",
    "print (\"國文成績:\" + str(chinese) + \", 數學成績:\" + str (math))"
   ]
  },
  {
   "cell_type": "code",
   "execution_count": 10,
   "id": "5b6c187c",
   "metadata": {},
   "outputs": [
    {
     "name": "stdout",
     "output_type": "stream",
     "text": [
      "國文成績: 92.38, 數學成績:100\n"
     ]
    }
   ],
   "source": [
    "#字串和變數整合, 成為全新的字串\n",
    "#字串補差\n",
    "chinese = 92.3756\n",
    "math = 100\n",
    "print (f\"國文成績: {chinese:.2f}, 數學成績:{math}\")"
   ]
  },
  {
   "cell_type": "code",
   "execution_count": 14,
   "id": "fe242f7b",
   "metadata": {},
   "outputs": [
    {
     "name": "stdout",
     "output_type": "stream",
     "text": [
      "身高(公尺):1.55\n",
      "體重(公斤):52\n",
      "你的BMI為:21.64\n"
     ]
    }
   ],
   "source": [
    "#BMI值計算公式\n",
    "import math\n",
    "height = eval (input(\"請輸入身高(公尺):\"))\n",
    "weight = eval (input(\"請輸入體重(公斤):\"))\n",
    "result = weight / height **2\n",
    "print (f\"身高(公尺):{height}\")\n",
    "print (f\"體重(公斤):{weight}\")\n",
    "print (f\"你的BMI為:{result:.2f}\")"
   ]
  }
 ],
 "metadata": {
  "kernelspec": {
   "display_name": "base",
   "language": "python",
   "name": "python3"
  },
  "language_info": {
   "codemirror_mode": {
    "name": "ipython",
    "version": 3
   },
   "file_extension": ".py",
   "mimetype": "text/x-python",
   "name": "python",
   "nbconvert_exporter": "python",
   "pygments_lexer": "ipython3",
   "version": "3.12.9"
  }
 },
 "nbformat": 4,
 "nbformat_minor": 5
}

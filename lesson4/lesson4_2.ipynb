{
 "cells": [
  {
   "cell_type": "code",
   "execution_count": 1,
   "id": "c851d3c1",
   "metadata": {},
   "outputs": [
    {
     "name": "stdout",
     "output_type": "stream",
     "text": [
      "數值在120~220\n"
     ]
    }
   ],
   "source": [
    "value:int = int(input(\"請輸入一個數字:\"))\n",
    "if value >= 120:\n",
    "    if value <= 220: \n",
    "        print (\"數值在120~220\")"
   ]
  },
  {
   "cell_type": "code",
   "execution_count": 9,
   "id": "d76ebfb4",
   "metadata": {},
   "outputs": [
    {
     "name": "stdout",
     "output_type": "stream",
     "text": [
      "數值大於220\n"
     ]
    }
   ],
   "source": [
    "value:int = int(input(\"請輸入一個數字:\"))\n",
    "if value < 120:\n",
    "    print (\"數值小於120\")\n",
    "if value > 220: \n",
    "    print (\"數值大於220\")"
   ]
  },
  {
   "cell_type": "code",
   "execution_count": 12,
   "id": "7dfdd8c3",
   "metadata": {},
   "outputs": [
    {
     "name": "stdout",
     "output_type": "stream",
     "text": [
      "數值在120~220\n"
     ]
    }
   ],
   "source": [
    "value:int = int(input(\"請輸入一個數字:\"))\n",
    "if value >= 120 and value <= 220: #使用邏輯運算子\n",
    "    print (\"數值在120~220\")"
   ]
  }
 ],
 "metadata": {
  "kernelspec": {
   "display_name": "base",
   "language": "python",
   "name": "python3"
  },
  "language_info": {
   "codemirror_mode": {
    "name": "ipython",
    "version": 3
   },
   "file_extension": ".py",
   "mimetype": "text/x-python",
   "name": "python",
   "nbconvert_exporter": "python",
   "pygments_lexer": "ipython3",
   "version": "3.12.9"
  }
 },
 "nbformat": 4,
 "nbformat_minor": 5
}

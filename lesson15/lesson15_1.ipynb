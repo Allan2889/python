{
 "cells": [
  {
   "cell_type": "markdown",
   "id": "bcbc7480",
   "metadata": {},
   "source": [
    "https://www.perplexity.ai/search/1f6d8098-e981-44bf-b915-b14b9e9052da"
   ]
  },
  {
   "cell_type": "code",
   "execution_count": 2,
   "id": "98d461a4",
   "metadata": {},
   "outputs": [],
   "source": [
    "import numpy as np"
   ]
  },
  {
   "cell_type": "code",
   "execution_count": 8,
   "id": "aff0807a",
   "metadata": {},
   "outputs": [
    {
     "data": {
      "text/plain": [
       "array([1, 3, 5, 7, 9])"
      ]
     },
     "execution_count": 8,
     "metadata": {},
     "output_type": "execute_result"
    }
   ],
   "source": [
    "np.array([1, 3, 5, 7, 9])"
   ]
  },
  {
   "cell_type": "code",
   "execution_count": 9,
   "id": "d6df5706",
   "metadata": {},
   "outputs": [
    {
     "data": {
      "text/plain": [
       "array([[0., 0., 0., 0.],\n",
       "       [0., 0., 0., 0.],\n",
       "       [0., 0., 0., 0.]])"
      ]
     },
     "execution_count": 9,
     "metadata": {},
     "output_type": "execute_result"
    }
   ],
   "source": [
    "np.zeros((3, 4))"
   ]
  },
  {
   "cell_type": "code",
   "execution_count": 10,
   "id": "c343513b",
   "metadata": {},
   "outputs": [
    {
     "data": {
      "text/plain": [
       "array([[1., 1., 1., 1.],\n",
       "       [1., 1., 1., 1.],\n",
       "       [1., 1., 1., 1.]])"
      ]
     },
     "execution_count": 10,
     "metadata": {},
     "output_type": "execute_result"
    }
   ],
   "source": [
    "np.ones((3, 4))"
   ]
  },
  {
   "cell_type": "code",
   "execution_count": 11,
   "id": "6ebc0b2c",
   "metadata": {},
   "outputs": [
    {
     "data": {
      "text/plain": [
       "array([0. , 0.1, 0.2, 0.3, 0.4, 0.5, 0.6, 0.7, 0.8, 0.9])"
      ]
     },
     "execution_count": 11,
     "metadata": {},
     "output_type": "execute_result"
    }
   ],
   "source": [
    "np.arange(0, 1, 0.1)"
   ]
  },
  {
   "cell_type": "code",
   "execution_count": 5,
   "id": "32be59f7",
   "metadata": {},
   "outputs": [
    {
     "data": {
      "text/plain": [
       "array([0.        , 0.11111111, 0.22222222, 0.33333333, 0.44444444,\n",
       "       0.55555556, 0.66666667, 0.77777778, 0.88888889, 1.        ])"
      ]
     },
     "execution_count": 5,
     "metadata": {},
     "output_type": "execute_result"
    }
   ],
   "source": [
    "np.linspace(0, 1, 10)"
   ]
  },
  {
   "cell_type": "code",
   "execution_count": 6,
   "id": "3e765cb5",
   "metadata": {},
   "outputs": [
    {
     "data": {
      "text/plain": [
       "array([[0.52113243, 0.88537295, 0.00404961, 0.28068613],\n",
       "       [0.64008185, 0.25905218, 0.9208444 , 0.36897795],\n",
       "       [0.4576336 , 0.28958348, 0.74129156, 0.90813285]])"
      ]
     },
     "execution_count": 6,
     "metadata": {},
     "output_type": "execute_result"
    }
   ],
   "source": [
    "np.random.rand(3, 4)"
   ]
  },
  {
   "cell_type": "code",
   "execution_count": 15,
   "id": "4d4fcc64",
   "metadata": {},
   "outputs": [
    {
     "data": {
      "text/plain": [
       "array([[ 88,  51,  89,  54,  73],\n",
       "       [ 51,  82,  50,  86,  86],\n",
       "       [ 51,  69,  92,  88,  77],\n",
       "       [ 59,  89,  93,  83,  86],\n",
       "       [ 86,  81,  61,  83,  99],\n",
       "       [ 57,  79,  81,  97,  51],\n",
       "       [ 68,  56,  73,  80,  70],\n",
       "       [ 56,  78,  85,  52,  64],\n",
       "       [ 58,  59,  73,  78,  93],\n",
       "       [ 58,  58,  58,  63,  56],\n",
       "       [ 84,  59,  83,  91,  79],\n",
       "       [ 85,  84,  91,  86,  97],\n",
       "       [ 56,  85,  91,  61,  78],\n",
       "       [ 81,  70,  94,  71,  84],\n",
       "       [ 91,  87,  83,  97,  98],\n",
       "       [ 60,  98,  68,  64,  78],\n",
       "       [ 64,  68,  55,  84,  55],\n",
       "       [ 62,  81,  51,  72,  88],\n",
       "       [ 63,  96,  91,  62,  72],\n",
       "       [ 69,  99,  75,  88,  72],\n",
       "       [ 92,  65,  51,  88,  94],\n",
       "       [ 59,  82,  68,  63,  72],\n",
       "       [ 50,  62,  58,  55,  83],\n",
       "       [ 59,  73,  52,  54,  93],\n",
       "       [ 55,  58,  86,  85,  79],\n",
       "       [ 65,  91,  92,  97,  88],\n",
       "       [ 60,  63,  90,  71,  84],\n",
       "       [ 96,  93,  54, 100,  96],\n",
       "       [ 50, 100,  53,  50,  51],\n",
       "       [ 83,  70,  68,  67,  88],\n",
       "       [ 77,  78,  59,  64,  85],\n",
       "       [ 50,  81,  81,  60,  72],\n",
       "       [ 65,  51,  61,  61,  94],\n",
       "       [ 75,  51,  85,  85,  99],\n",
       "       [100,  93, 100,  51,  57],\n",
       "       [ 99,  73,  77,  91,  64],\n",
       "       [ 95,  53,  73,  60,  94],\n",
       "       [ 82,  54,  58,  82,  93],\n",
       "       [ 58,  68,  55,  81,  97],\n",
       "       [ 63,  64,  96,  56,  62],\n",
       "       [ 75,  50,  99,  72,  92],\n",
       "       [ 51,  70,  58,  73, 100],\n",
       "       [ 69, 100,  54,  59,  52],\n",
       "       [ 61,  73,  51,  50,  99],\n",
       "       [ 83,  82,  54,  84,  88],\n",
       "       [ 54,  77,  83,  82,  54],\n",
       "       [ 88,  94,  69,  63,  93],\n",
       "       [ 72,  70,  76,  50,  85],\n",
       "       [ 56,  70,  57,  94,  52],\n",
       "       [ 58,  80,  98, 100,  72]], dtype=int32)"
      ]
     },
     "execution_count": 15,
     "metadata": {},
     "output_type": "execute_result"
    }
   ],
   "source": [
    "scores = np.random.randint(50, 101, size=(50, 5))\n",
    "scores"
   ]
  }
 ],
 "metadata": {
  "kernelspec": {
   "display_name": "python2_4",
   "language": "python",
   "name": "python3"
  },
  "language_info": {
   "codemirror_mode": {
    "name": "ipython",
    "version": 3
   },
   "file_extension": ".py",
   "mimetype": "text/x-python",
   "name": "python",
   "nbconvert_exporter": "python",
   "pygments_lexer": "ipython3",
   "version": "3.11.11"
  }
 },
 "nbformat": 4,
 "nbformat_minor": 5
}

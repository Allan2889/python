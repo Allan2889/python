{
 "cells": [
  {
   "cell_type": "code",
   "execution_count": 1,
   "id": "07bc7a54",
   "metadata": {},
   "outputs": [
    {
     "data": {
      "text/plain": [
       "array([[ 68,  52,  83,  97,  66],\n",
       "       [ 84,  93,  81,  55,  73],\n",
       "       [ 79,  88,  78,  58,  67],\n",
       "       [ 79,  56,  65, 100,  83],\n",
       "       [ 65,  75,  76,  93,  81]], dtype=int32)"
      ]
     },
     "execution_count": 1,
     "metadata": {},
     "output_type": "execute_result"
    }
   ],
   "source": [
    "import numpy as np\n",
    "scores = np.random.randint(50,101,size=(5,5))\n",
    "scores"
   ]
  },
  {
   "cell_type": "code",
   "execution_count": 18,
   "id": "73a2e819",
   "metadata": {},
   "outputs": [
    {
     "data": {
      "text/plain": [
       "array([366, 386, 370, 383, 390], dtype=int32)"
      ]
     },
     "execution_count": 18,
     "metadata": {},
     "output_type": "execute_result"
    }
   ],
   "source": [
    "scores [:, 0] + scores [:, 1] + scores [:, 2] + scores [:, 3] + scores [:, 4]"
   ]
  },
  {
   "cell_type": "code",
   "execution_count": 3,
   "id": "32ee811d",
   "metadata": {},
   "outputs": [
    {
     "data": {
      "text/plain": [
       "array([[83, 97, 66],\n",
       "       [81, 55, 73],\n",
       "       [78, 58, 67]], dtype=int32)"
      ]
     },
     "execution_count": 3,
     "metadata": {},
     "output_type": "execute_result"
    }
   ],
   "source": [
    "scores[:3, 2:]"
   ]
  },
  {
   "cell_type": "code",
   "execution_count": 9,
   "id": "eb3da5f7",
   "metadata": {},
   "outputs": [
    {
     "data": {
      "text/plain": [
       "array([[65, 75, 76, 93, 81]], dtype=int32)"
      ]
     },
     "execution_count": 9,
     "metadata": {},
     "output_type": "execute_result"
    }
   ],
   "source": [
    "scores [4]\n",
    "scores [4, :]\n",
    "scores [4:, :]"
   ]
  },
  {
   "cell_type": "code",
   "execution_count": 10,
   "id": "f17a6391",
   "metadata": {},
   "outputs": [
    {
     "data": {
      "text/plain": [
       "array([[68, 52],\n",
       "       [84, 93],\n",
       "       [79, 88],\n",
       "       [79, 56],\n",
       "       [65, 75]], dtype=int32)"
      ]
     },
     "execution_count": 10,
     "metadata": {},
     "output_type": "execute_result"
    }
   ],
   "source": [
    "scores [:, :2]"
   ]
  },
  {
   "cell_type": "code",
   "execution_count": null,
   "id": "77cf2a6c",
   "metadata": {},
   "outputs": [],
   "source": [
    "### numpy 的統計工具"
   ]
  },
  {
   "cell_type": "code",
   "execution_count": 11,
   "id": "f6bdf358",
   "metadata": {},
   "outputs": [
    {
     "data": {
      "text/plain": [
       "array([366, 386, 370, 383, 390], dtype=int32)"
      ]
     },
     "execution_count": 11,
     "metadata": {},
     "output_type": "execute_result"
    }
   ],
   "source": [
    "scores [:, 0] + scores [:, 1] + scores [:, 2] + scores [:, 3] + scores [:, 4]"
   ]
  },
  {
   "cell_type": "code",
   "execution_count": 12,
   "id": "108084a9",
   "metadata": {},
   "outputs": [
    {
     "data": {
      "text/plain": [
       "array([366, 386, 370, 383, 390])"
      ]
     },
     "execution_count": 12,
     "metadata": {},
     "output_type": "execute_result"
    }
   ],
   "source": [
    "#加總\n",
    "np.sum(scores,axis=1)"
   ]
  },
  {
   "cell_type": "code",
   "execution_count": 13,
   "id": "7267efe0",
   "metadata": {},
   "outputs": [
    {
     "data": {
      "text/plain": [
       "array([73.2, 77.2, 74. , 76.6, 78. ])"
      ]
     },
     "execution_count": 13,
     "metadata": {},
     "output_type": "execute_result"
    }
   ],
   "source": [
    "#平均\n",
    "np.mean(scores, axis=1)"
   ]
  },
  {
   "cell_type": "code",
   "execution_count": 14,
   "id": "50c1539a",
   "metadata": {},
   "outputs": [
    {
     "data": {
      "text/plain": [
       "array([ 97,  93,  88, 100,  93], dtype=int32)"
      ]
     },
     "execution_count": 14,
     "metadata": {},
     "output_type": "execute_result"
    }
   ],
   "source": [
    "#最大\n",
    "np.max(scores,axis=1)"
   ]
  },
  {
   "cell_type": "code",
   "execution_count": 15,
   "id": "c9a7a15e",
   "metadata": {},
   "outputs": [
    {
     "data": {
      "text/plain": [
       "array([52, 55, 58, 56, 65], dtype=int32)"
      ]
     },
     "execution_count": 15,
     "metadata": {},
     "output_type": "execute_result"
    }
   ],
   "source": [
    "#最小\n",
    "np.min(scores,axis=1)"
   ]
  },
  {
   "cell_type": "code",
   "execution_count": 16,
   "id": "9eac25f0",
   "metadata": {},
   "outputs": [
    {
     "data": {
      "text/plain": [
       "array([68., 81., 78., 79., 76.])"
      ]
     },
     "execution_count": 16,
     "metadata": {},
     "output_type": "execute_result"
    }
   ],
   "source": [
    "#中間數\n",
    "np.median(scores,axis=1)"
   ]
  },
  {
   "cell_type": "code",
   "execution_count": 17,
   "id": "01aed854",
   "metadata": {},
   "outputs": [
    {
     "data": {
      "text/plain": [
       "array([15.43243338, 12.8124939 , 10.41153207, 15.18683641,  9.1214034 ])"
      ]
     },
     "execution_count": 17,
     "metadata": {},
     "output_type": "execute_result"
    }
   ],
   "source": [
    "#標準差\n",
    "np.std(scores,axis=1)"
   ]
  }
 ],
 "metadata": {
  "kernelspec": {
   "display_name": "python2_4",
   "language": "python",
   "name": "python3"
  },
  "language_info": {
   "codemirror_mode": {
    "name": "ipython",
    "version": 3
   },
   "file_extension": ".py",
   "mimetype": "text/x-python",
   "name": "python",
   "nbconvert_exporter": "python",
   "pygments_lexer": "ipython3",
   "version": "3.11.11"
  }
 },
 "nbformat": 4,
 "nbformat_minor": 5
}

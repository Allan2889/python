{
 "cells": [
  {
   "cell_type": "code",
   "execution_count": 4,
   "id": "de45ef01",
   "metadata": {},
   "outputs": [
    {
     "data": {
      "text/html": [
       "<div>\n",
       "<style scoped>\n",
       "    .dataframe tbody tr th:only-of-type {\n",
       "        vertical-align: middle;\n",
       "    }\n",
       "\n",
       "    .dataframe tbody tr th {\n",
       "        vertical-align: top;\n",
       "    }\n",
       "\n",
       "    .dataframe thead th {\n",
       "        text-align: right;\n",
       "    }\n",
       "</style>\n",
       "<table border=\"1\" class=\"dataframe\">\n",
       "  <thead>\n",
       "    <tr style=\"text-align: right;\">\n",
       "      <th></th>\n",
       "      <th>apples</th>\n",
       "      <th>orange</th>\n",
       "    </tr>\n",
       "  </thead>\n",
       "  <tbody>\n",
       "    <tr>\n",
       "      <th>第1</th>\n",
       "      <td>3</td>\n",
       "      <td>0</td>\n",
       "    </tr>\n",
       "    <tr>\n",
       "      <th>第2</th>\n",
       "      <td>2</td>\n",
       "      <td>3</td>\n",
       "    </tr>\n",
       "    <tr>\n",
       "      <th>第3</th>\n",
       "      <td>0</td>\n",
       "      <td>7</td>\n",
       "    </tr>\n",
       "    <tr>\n",
       "      <th>第4</th>\n",
       "      <td>1</td>\n",
       "      <td>2</td>\n",
       "    </tr>\n",
       "  </tbody>\n",
       "</table>\n",
       "</div>"
      ],
      "text/plain": [
       "    apples  orange\n",
       "第1       3       0\n",
       "第2       2       3\n",
       "第3       0       7\n",
       "第4       1       2"
      ]
     },
     "execution_count": 4,
     "metadata": {},
     "output_type": "execute_result"
    }
   ],
   "source": [
    "import numpy as np\n",
    "import pandas as pd\n",
    "\n",
    "data = {\n",
    "    'apples' : [3, 2, 0, 1],\n",
    "    'orange' : [0, 3, 7, 2]\n",
    "}\n",
    "\n",
    "pd.DataFrame(data, index=[\"第1\",\"第2\",\"第3\",\"第4\"])"
   ]
  },
  {
   "cell_type": "code",
   "execution_count": 16,
   "id": "d8c8e45a",
   "metadata": {},
   "outputs": [
    {
     "data": {
      "text/html": [
       "<div>\n",
       "<style scoped>\n",
       "    .dataframe tbody tr th:only-of-type {\n",
       "        vertical-align: middle;\n",
       "    }\n",
       "\n",
       "    .dataframe tbody tr th {\n",
       "        vertical-align: top;\n",
       "    }\n",
       "\n",
       "    .dataframe thead th {\n",
       "        text-align: right;\n",
       "    }\n",
       "</style>\n",
       "<table border=\"1\" class=\"dataframe\">\n",
       "  <thead>\n",
       "    <tr style=\"text-align: right;\">\n",
       "      <th></th>\n",
       "      <th>國文</th>\n",
       "      <th>英文</th>\n",
       "      <th>數學</th>\n",
       "      <th>地理</th>\n",
       "      <th>歷史</th>\n",
       "    </tr>\n",
       "  </thead>\n",
       "  <tbody>\n",
       "    <tr>\n",
       "      <th>學生1</th>\n",
       "      <td>61</td>\n",
       "      <td>77</td>\n",
       "      <td>58</td>\n",
       "      <td>58</td>\n",
       "      <td>69</td>\n",
       "    </tr>\n",
       "    <tr>\n",
       "      <th>學生2</th>\n",
       "      <td>69</td>\n",
       "      <td>51</td>\n",
       "      <td>92</td>\n",
       "      <td>81</td>\n",
       "      <td>95</td>\n",
       "    </tr>\n",
       "    <tr>\n",
       "      <th>學生3</th>\n",
       "      <td>97</td>\n",
       "      <td>92</td>\n",
       "      <td>74</td>\n",
       "      <td>87</td>\n",
       "      <td>50</td>\n",
       "    </tr>\n",
       "    <tr>\n",
       "      <th>學生4</th>\n",
       "      <td>66</td>\n",
       "      <td>65</td>\n",
       "      <td>80</td>\n",
       "      <td>66</td>\n",
       "      <td>77</td>\n",
       "    </tr>\n",
       "    <tr>\n",
       "      <th>學生5</th>\n",
       "      <td>60</td>\n",
       "      <td>55</td>\n",
       "      <td>100</td>\n",
       "      <td>98</td>\n",
       "      <td>66</td>\n",
       "    </tr>\n",
       "  </tbody>\n",
       "</table>\n",
       "</div>"
      ],
      "text/plain": [
       "     國文  英文   數學  地理  歷史\n",
       "學生1  61  77   58  58  69\n",
       "學生2  69  51   92  81  95\n",
       "學生3  97  92   74  87  50\n",
       "學生4  66  65   80  66  77\n",
       "學生5  60  55  100  98  66"
      ]
     },
     "execution_count": 16,
     "metadata": {},
     "output_type": "execute_result"
    }
   ],
   "source": [
    "data = np.random.randint(50,101, size=(5,5))\n",
    "df = pd.DataFrame(data, \n",
    "            index=[\"學生1\",\"學生2\",\"學生3\",\"學生4\",\"學生5\"], \n",
    "            columns=[\"國文\",\"英文\",\"數學\", \"地理\", \"歷史\"]\n",
    "            )\n",
    "\n",
    "df"
   ]
  },
  {
   "cell_type": "code",
   "execution_count": 7,
   "id": "facb6025",
   "metadata": {},
   "outputs": [
    {
     "data": {
      "text/plain": [
       "學生1    87\n",
       "學生2    81\n",
       "學生3    70\n",
       "學生4    53\n",
       "學生5    66\n",
       "Name: 國文, dtype: int32"
      ]
     },
     "execution_count": 7,
     "metadata": {},
     "output_type": "execute_result"
    }
   ],
   "source": [
    "#依據欄位名稱的選取\n",
    "\n",
    "df['國文']"
   ]
  },
  {
   "cell_type": "code",
   "execution_count": 10,
   "id": "c3c1c6a5",
   "metadata": {},
   "outputs": [
    {
     "data": {
      "text/html": [
       "<div>\n",
       "<style scoped>\n",
       "    .dataframe tbody tr th:only-of-type {\n",
       "        vertical-align: middle;\n",
       "    }\n",
       "\n",
       "    .dataframe tbody tr th {\n",
       "        vertical-align: top;\n",
       "    }\n",
       "\n",
       "    .dataframe thead th {\n",
       "        text-align: right;\n",
       "    }\n",
       "</style>\n",
       "<table border=\"1\" class=\"dataframe\">\n",
       "  <thead>\n",
       "    <tr style=\"text-align: right;\">\n",
       "      <th></th>\n",
       "      <th>國文</th>\n",
       "      <th>英文</th>\n",
       "    </tr>\n",
       "  </thead>\n",
       "  <tbody>\n",
       "    <tr>\n",
       "      <th>學生1</th>\n",
       "      <td>87</td>\n",
       "      <td>53</td>\n",
       "    </tr>\n",
       "    <tr>\n",
       "      <th>學生2</th>\n",
       "      <td>81</td>\n",
       "      <td>50</td>\n",
       "    </tr>\n",
       "    <tr>\n",
       "      <th>學生3</th>\n",
       "      <td>70</td>\n",
       "      <td>87</td>\n",
       "    </tr>\n",
       "    <tr>\n",
       "      <th>學生4</th>\n",
       "      <td>53</td>\n",
       "      <td>76</td>\n",
       "    </tr>\n",
       "    <tr>\n",
       "      <th>學生5</th>\n",
       "      <td>66</td>\n",
       "      <td>87</td>\n",
       "    </tr>\n",
       "  </tbody>\n",
       "</table>\n",
       "</div>"
      ],
      "text/plain": [
       "     國文  英文\n",
       "學生1  87  53\n",
       "學生2  81  50\n",
       "學生3  70  87\n",
       "學生4  53  76\n",
       "學生5  66  87"
      ]
     },
     "execution_count": 10,
     "metadata": {},
     "output_type": "execute_result"
    }
   ],
   "source": [
    "df[['國文','英文']]"
   ]
  },
  {
   "cell_type": "code",
   "execution_count": 17,
   "id": "b62913ca",
   "metadata": {},
   "outputs": [],
   "source": [
    "#可以使用numpy的統計function\n",
    "sum = np.sum(df, axis=1)\n",
    "mean = np.mean(df, axis=1)\n",
    "\n",
    "df['總分'] = sum\n",
    "df['平均'] = mean\n"
   ]
  },
  {
   "cell_type": "code",
   "execution_count": 18,
   "id": "cb1b2e48",
   "metadata": {},
   "outputs": [
    {
     "data": {
      "text/html": [
       "<div>\n",
       "<style scoped>\n",
       "    .dataframe tbody tr th:only-of-type {\n",
       "        vertical-align: middle;\n",
       "    }\n",
       "\n",
       "    .dataframe tbody tr th {\n",
       "        vertical-align: top;\n",
       "    }\n",
       "\n",
       "    .dataframe thead th {\n",
       "        text-align: right;\n",
       "    }\n",
       "</style>\n",
       "<table border=\"1\" class=\"dataframe\">\n",
       "  <thead>\n",
       "    <tr style=\"text-align: right;\">\n",
       "      <th></th>\n",
       "      <th>國文</th>\n",
       "      <th>英文</th>\n",
       "      <th>數學</th>\n",
       "      <th>地理</th>\n",
       "      <th>歷史</th>\n",
       "      <th>總分</th>\n",
       "      <th>平均</th>\n",
       "    </tr>\n",
       "  </thead>\n",
       "  <tbody>\n",
       "    <tr>\n",
       "      <th>學生1</th>\n",
       "      <td>61</td>\n",
       "      <td>77</td>\n",
       "      <td>58</td>\n",
       "      <td>58</td>\n",
       "      <td>69</td>\n",
       "      <td>323</td>\n",
       "      <td>64.6</td>\n",
       "    </tr>\n",
       "    <tr>\n",
       "      <th>學生2</th>\n",
       "      <td>69</td>\n",
       "      <td>51</td>\n",
       "      <td>92</td>\n",
       "      <td>81</td>\n",
       "      <td>95</td>\n",
       "      <td>388</td>\n",
       "      <td>77.6</td>\n",
       "    </tr>\n",
       "    <tr>\n",
       "      <th>學生3</th>\n",
       "      <td>97</td>\n",
       "      <td>92</td>\n",
       "      <td>74</td>\n",
       "      <td>87</td>\n",
       "      <td>50</td>\n",
       "      <td>400</td>\n",
       "      <td>80.0</td>\n",
       "    </tr>\n",
       "    <tr>\n",
       "      <th>學生4</th>\n",
       "      <td>66</td>\n",
       "      <td>65</td>\n",
       "      <td>80</td>\n",
       "      <td>66</td>\n",
       "      <td>77</td>\n",
       "      <td>354</td>\n",
       "      <td>70.8</td>\n",
       "    </tr>\n",
       "    <tr>\n",
       "      <th>學生5</th>\n",
       "      <td>60</td>\n",
       "      <td>55</td>\n",
       "      <td>100</td>\n",
       "      <td>98</td>\n",
       "      <td>66</td>\n",
       "      <td>379</td>\n",
       "      <td>75.8</td>\n",
       "    </tr>\n",
       "  </tbody>\n",
       "</table>\n",
       "</div>"
      ],
      "text/plain": [
       "     國文  英文   數學  地理  歷史   總分    平均\n",
       "學生1  61  77   58  58  69  323  64.6\n",
       "學生2  69  51   92  81  95  388  77.6\n",
       "學生3  97  92   74  87  50  400  80.0\n",
       "學生4  66  65   80  66  77  354  70.8\n",
       "學生5  60  55  100  98  66  379  75.8"
      ]
     },
     "execution_count": 18,
     "metadata": {},
     "output_type": "execute_result"
    }
   ],
   "source": [
    "df"
   ]
  },
  {
   "cell_type": "code",
   "execution_count": 19,
   "id": "50f86c90",
   "metadata": {},
   "outputs": [
    {
     "data": {
      "text/plain": [
       "國文     61.0\n",
       "英文     77.0\n",
       "數學     58.0\n",
       "地理     58.0\n",
       "歷史     69.0\n",
       "總分    323.0\n",
       "平均     64.6\n",
       "Name: 學生1, dtype: float64"
      ]
     },
     "execution_count": 19,
     "metadata": {},
     "output_type": "execute_result"
    }
   ],
   "source": [
    "#依據列的選取\n",
    "#.loc[] -> 依據名稱\n",
    "#.iloc[] -> 依據索引\n",
    "\n",
    "df.loc['學生1']"
   ]
  },
  {
   "cell_type": "code",
   "execution_count": 33,
   "id": "5f513d3a",
   "metadata": {},
   "outputs": [
    {
     "data": {
      "text/html": [
       "<div>\n",
       "<style scoped>\n",
       "    .dataframe tbody tr th:only-of-type {\n",
       "        vertical-align: middle;\n",
       "    }\n",
       "\n",
       "    .dataframe tbody tr th {\n",
       "        vertical-align: top;\n",
       "    }\n",
       "\n",
       "    .dataframe thead th {\n",
       "        text-align: right;\n",
       "    }\n",
       "</style>\n",
       "<table border=\"1\" class=\"dataframe\">\n",
       "  <thead>\n",
       "    <tr style=\"text-align: right;\">\n",
       "      <th></th>\n",
       "      <th>國文</th>\n",
       "      <th>英文</th>\n",
       "      <th>數學</th>\n",
       "      <th>地理</th>\n",
       "      <th>歷史</th>\n",
       "    </tr>\n",
       "  </thead>\n",
       "  <tbody>\n",
       "    <tr>\n",
       "      <th>學生1</th>\n",
       "      <td>61</td>\n",
       "      <td>77</td>\n",
       "      <td>58</td>\n",
       "      <td>58</td>\n",
       "      <td>69</td>\n",
       "    </tr>\n",
       "    <tr>\n",
       "      <th>學生2</th>\n",
       "      <td>69</td>\n",
       "      <td>51</td>\n",
       "      <td>92</td>\n",
       "      <td>81</td>\n",
       "      <td>95</td>\n",
       "    </tr>\n",
       "  </tbody>\n",
       "</table>\n",
       "</div>"
      ],
      "text/plain": [
       "     國文  英文  數學  地理  歷史\n",
       "學生1  61  77  58  58  69\n",
       "學生2  69  51  92  81  95"
      ]
     },
     "execution_count": 33,
     "metadata": {},
     "output_type": "execute_result"
    }
   ],
   "source": [
    "df.loc[['學生1', '學生2']]\n",
    "df.iloc[0] #類似numpy的選取\n",
    "df.iloc[:2]\n",
    "df.iloc[0, :5]\n",
    "df.iloc[:2, :5]\n"
   ]
  }
 ],
 "metadata": {
  "kernelspec": {
   "display_name": "python2_4",
   "language": "python",
   "name": "python3"
  },
  "language_info": {
   "codemirror_mode": {
    "name": "ipython",
    "version": 3
   },
   "file_extension": ".py",
   "mimetype": "text/x-python",
   "name": "python",
   "nbconvert_exporter": "python",
   "pygments_lexer": "ipython3",
   "version": "3.11.11"
  }
 },
 "nbformat": 4,
 "nbformat_minor": 5
}

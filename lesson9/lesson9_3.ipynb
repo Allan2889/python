{
 "cells": [
  {
   "cell_type": "markdown",
   "id": "9b512507",
   "metadata": {},
   "source": [
    "list實體"
   ]
  },
  {
   "cell_type": "code",
   "execution_count": 1,
   "id": "85f24981",
   "metadata": {},
   "outputs": [
    {
     "name": "stdout",
     "output_type": "stream",
     "text": [
      "<class 'list'>\n"
     ]
    }
   ],
   "source": [
    "list1 = [89, 92, 74, 35, 67]\n",
    "print(type(list1))"
   ]
  },
  {
   "cell_type": "code",
   "execution_count": 2,
   "id": "561b6b4b",
   "metadata": {},
   "outputs": [
    {
     "data": {
      "text/plain": [
       "35"
      ]
     },
     "execution_count": 2,
     "metadata": {},
     "output_type": "execute_result"
    }
   ],
   "source": [
    "#內建function\n",
    "max(list1)\n",
    "min(list1)"
   ]
  },
  {
   "cell_type": "code",
   "execution_count": 7,
   "id": "f3e83cab",
   "metadata": {},
   "outputs": [],
   "source": [
    "list1.append(100)"
   ]
  },
  {
   "cell_type": "code",
   "execution_count": 8,
   "id": "e225fe33",
   "metadata": {},
   "outputs": [],
   "source": [
    "list1.extend([99,98])"
   ]
  },
  {
   "cell_type": "code",
   "execution_count": 9,
   "id": "d6aef85a",
   "metadata": {},
   "outputs": [
    {
     "data": {
      "text/plain": [
       "98"
      ]
     },
     "execution_count": 9,
     "metadata": {},
     "output_type": "execute_result"
    }
   ],
   "source": [
    "list1.pop()"
   ]
  },
  {
   "cell_type": "code",
   "execution_count": 10,
   "id": "c03667ee",
   "metadata": {},
   "outputs": [
    {
     "data": {
      "text/plain": [
       "[89, 92, 74, 35, 67, 100, 99, 100, 99]"
      ]
     },
     "execution_count": 10,
     "metadata": {},
     "output_type": "execute_result"
    }
   ],
   "source": [
    "list1"
   ]
  }
 ],
 "metadata": {
  "kernelspec": {
   "display_name": "base",
   "language": "python",
   "name": "python3"
  },
  "language_info": {
   "codemirror_mode": {
    "name": "ipython",
    "version": 3
   },
   "file_extension": ".py",
   "mimetype": "text/x-python",
   "name": "python",
   "nbconvert_exporter": "python",
   "pygments_lexer": "ipython3",
   "version": "3.12.9"
  }
 },
 "nbformat": 4,
 "nbformat_minor": 5
}
